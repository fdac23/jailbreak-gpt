{
 "cells": [
  {
   "cell_type": "code",
   "execution_count": 1,
   "metadata": {},
   "outputs": [],
   "source": [
    "import pandas as pd\n",
    "import matplotlib.pyplot as plt\n",
    "import seaborn as sns\n",
    "from collections import Counter"
   ]
  },
  {
   "cell_type": "code",
   "execution_count": 2,
   "metadata": {},
   "outputs": [],
   "source": [
    "def categorize_prompt(prompt):\n",
    "    \"\"\"\n",
    "    Categorize a prompt based on defined criteria.\n",
    "\n",
    "    Args:\n",
    "    prompt (str): The prompt text to categorize.\n",
    "\n",
    "    Returns:\n",
    "    str: The category of the prompt.\n",
    "    \"\"\"\n",
    "    # Categories based on the content of the prompts\n",
    "    if any(word in prompt for word in ['sex', 'fuck' 'sexual', 'porn', 'erotic', 'child porn', 'nudity', 'nude', 'naked', 'sexual content', 'sexual activity', 'sexual intercourse', 'sexual relations', 'sexual relationship', 'sexual relationships', 'sexual situations']):\n",
    "        return 'Sexual Content'\n",
    "    elif any(word in prompt for word in ['illegal', 'crime', 'unethical', 'immoral', 'illegal activities', 'unethical activities', 'immoral activities', 'illegal activity', 'unethical activity', 'immoral activity']):\n",
    "        return 'Illegal/Unethical Activities'\n",
    "    elif any(word in prompt for word in ['hate', 'fuck' 'racism', 'hell', 'cunt', 'slang', 'curse', 'racist', 'racists', 'racially', 'racial', 'racial slurs', 'racial slur', 'racial discrimination', 'racial discrimination', 'racial discrimination', 'hatred', 'hate speech', 'hate crimes', 'hate crime', 'hate group']):\n",
    "        return 'Hate Speech'\n",
    "    elif any(word in prompt for word in ['malware', 'hack', 'cybercrime', 'cyber attack', 'malicious', 'malicious software', 'malicious code', 'malicious codes', 'malicious program', 'malicious programs', 'malicious software']):\n",
    "        return 'Cybercrime'\n",
    "    elif any(word in prompt for word in ['harm', 'kill', 'poison', 'murder', 'death', 'harmful', 'bomb', 'power', 'deadly', 'drug']):\n",
    "        return 'Harmful Content'\n",
    "    elif any(word in prompt for word in ['lie', 'deciet', 'fraud', 'betray']):\n",
    "        return 'Fraud'"
   ]
  },
  {
   "cell_type": "code",
   "execution_count": 3,
   "metadata": {},
   "outputs": [],
   "source": [
    "def categorize_prompts_in_text_file(file_path):\n",
    "    \"\"\"\n",
    "    Categorize prompts in a text file.\n",
    "\n",
    "    Args:\n",
    "    file_path (str): Path to the text file.\n",
    "\n",
    "    Returns:\n",
    "    Counter: A counter object with frequencies of each category.\n",
    "    \"\"\"\n",
    "    categories_counter = Counter()\n",
    "    \n",
    "    with open(file_path, 'r') as file:\n",
    "        for line in file:\n",
    "            category = categorize_prompt(line)\n",
    "            categories_counter[category] += 1\n",
    "    \n",
    "    return categories_counter\n"
   ]
  },
  {
   "cell_type": "code",
   "execution_count": 4,
   "metadata": {},
   "outputs": [],
   "source": [
    "def plot_categories_frequency(categories_counter):\n",
    "    \"\"\"\n",
    "    Plot the frequency of each category.\n",
    "\n",
    "    Args:\n",
    "    categories_counter (Counter): A counter object with frequencies of each category.\n",
    "\n",
    "    Returns:\n",
    "    None\n",
    "    \"\"\"\n",
    "    # Convert counter to a DataFrame for easy plotting\n",
    "    categories_df = pd.DataFrame(categories_counter.items(), columns=['Category', 'Frequency']).sort_values(by='Frequency', ascending=False)\n",
    "\n",
    "    # Plotting\n",
    "    plt.figure(figsize=(10, 6))\n",
    "    sns.barplot(x='Frequency', y='Category', data=categories_df, palette='viridis')\n",
    "    plt.title('Effective Jailbreak Prompts Tested on ChatGPT')\n",
    "    plt.xlabel('Frequency')\n",
    "    plt.ylabel('Category')\n",
    "    plt.grid(True, axis='x')\n",
    "    plt.show()\n"
   ]
  },
  {
   "cell_type": "code",
   "execution_count": 6,
   "metadata": {},
   "outputs": [
    {
     "data": {
      "image/png": "[encoded data removed]",
      "text/plain": [
       "<Figure size 720x432 with 1 Axes>"
      ]
     },
     "metadata": {
      "needs_background": "light"
     },
     "output_type": "display_data"
    }
   ],
   "source": [
    "# Path to the text file\n",
    "text_file_path = '/home/ttahmid/jailbreak-gpt/analysis/GPT Break - chat-gpt.txt'\n",
    "\n",
    "# Categorizing prompts in the text file\n",
    "categories_counter = categorize_prompts_in_text_file(text_file_path)\n",
    "\n",
    "# Plotting the categories frequency\n",
    "plot_categories_frequency(categories_counter)\n"
   ]
  }
 ],
 "metadata": {
  "kernelspec": {
   "display_name": "Python 3",
   "language": "python",
   "name": "python3"
  },
  "language_info": {
   "codemirror_mode": {
    "name": "ipython",
    "version": 3
   },
   "file_extension": ".py",
   "mimetype": "text/x-python",
   "name": "python",
   "nbconvert_exporter": "python",
   "pygments_lexer": "ipython3",
   "version": "3.8.10"
  }
 },
 "nbformat": 4,
 "nbformat_minor": 2
}
